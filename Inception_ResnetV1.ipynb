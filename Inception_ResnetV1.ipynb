{
  "nbformat": 4,
  "nbformat_minor": 0,
  "metadata": {
    "colab": {
      "name": "Inception_ResnetV1.ipynb",
      "provenance": [],
      "collapsed_sections": []
    },
    "kernelspec": {
      "name": "python3",
      "display_name": "Python 3"
    },
    "accelerator": "GPU"
  },
  "cells": [
    {
      "cell_type": "code",
      "metadata": {
        "id": "33uGfDE21Y_H",
        "colab_type": "code",
        "colab": {
          "base_uri": "https://localhost:8080/",
          "height": 34
        },
        "outputId": "4927fb2b-81c0-46b8-f2d9-086c3d8b6406"
      },
      "source": [
        "\"\"\"Inception-ResNet V1 model for Keras.\n",
        "# Reference\n",
        "http://arxiv.org/abs/1602.07261\n",
        "\"\"\"\n",
        "%tensorflow_version 1.x\n",
        "import keras\n",
        "import keras.layers as layers\n",
        "from keras.datasets import cifar100 \n",
        "\n",
        "def Conv_Layer(x,filters,filter_size,strides,padding='valid',name=None):\n",
        "  use_bias=True;\n",
        "  x = Conv2D(filters,\n",
        "               filter_size,\n",
        "               strides=strides,\n",
        "               padding=padding,\n",
        "               name=name)(x)\n",
        "  return x\n",
        "\n",
        "def stem(input_shape=(32, 32, 3),classes=100):\n",
        "  #stack layers to build stem architecture\n",
        "  inputs = Input(shape=input_shape)\n",
        "  x = Conv_Layer(inputs, 32, 3, strides=2, padding='valid', name='Conv2D_1a_3x3')\n",
        "  x = Conv_Layer(x, 32, 3, padding='valid', name='Conv2D_2a_3x3')\n",
        "  x = Conv_Layer(x, 64, 3, name='Conv2D_2b_3x3')\n",
        "  x = MaxPooling2D(3, strides=2, name='MaxPool_3a_3x3')(x)\n",
        "  x = Conv_Layer(x, 80, 1, padding='valid', name='Conv2D_3b_1x1')\n",
        "  x = Conv_Layer(x, 192, 3, padding='valid', name='Conv2D_4a_3x3')\n",
        "  x = Conv_Layer(x, 256, 3, strides=2, padding='valid', name='Conv2D_4b_3x3')\n",
        "  return x\n",
        "\n",
        "def inc_res_block(x, b_type, activation='relu'):\n",
        "  if b_type == 'B35':\n",
        "      branch_0 = Conv_Layer(x, 32, 1, name='Conv2d_1x1')\n",
        "      branch_1 = Conv_Layer(x, 32, 1, name='Conv2d_0a_1x1')\n",
        "      branch_1 = Conv_Layer(branch_1, 32, 3, name='Conv2d_0b_3x3')\n",
        "      branch_2 = Conv_Layer(x, 32, 1, name='Conv2d_0a_1x1')\n",
        "      branch_2 = Conv_Layer(branch_2, 32, 3, name='Conv2d_0b_3x3')\n",
        "      branch_2 = Conv_Layer(branch_2, 32, 3, name='Conv2d_0c_3x3')\n",
        "      branches = [branch_0, branch_1, branch_2]\n",
        "  elif b_type == 'B17':\n",
        "      branch_0 = Conv_Layer(x, 128, 1, name='Conv2d_1x1')\n",
        "      branch_1 = Conv_Layer(x, 128, 1, name='Conv2d_0a_1x1')\n",
        "      branch_1 = Conv_Layer(branch_1, 128, [1, 7], name='Conv2d_0b_1x7')\n",
        "      branch_1 = Conv_Layer(branch_1, 128, [7, 1], name='Conv2d_0c_7x1')\n",
        "      branches = [branch_0, branch_1]\n",
        "  elif b_type == 'B8':\n",
        "      branch_0 = Conv_Layer(x, 192, 1, name='Conv2d_1x1')\n",
        "      branch_1 = Conv_Layer(x, 192, 1, name='Conv2d_0a_1x1')\n",
        "      branch_1 = Conv_Layer(branch_1, 192, [1, 3], name='Conv2d_0b_1x3')\n",
        "      branch_1 = Conv_Layer(branch_1, 192, [3, 1], name='Conv2d_0c_3x1')\n",
        "      branches = [branch_0, branch_1]\n",
        "  else:\n",
        "      raise ValueError('Unknown Inception-ResNet block type' + str(b_type))\n",
        "\n",
        "  merged = Concatenate(axis=3)(branches)\n",
        "  up = Conv_Layer(merged,\n",
        "                  K.int_shape(x)[3],\n",
        "                  1,\n",
        "                  activation=None,\n",
        "                  use_bias=True)\n",
        "  up = Lambda(scaling,\n",
        "              output_shape=K.int_shape(up)[1:],\n",
        "              arguments={'scale': scale})(up)\n",
        "  x = add([x, up])\n",
        "  if activation is not None:\n",
        "      x = Activation(activation, name='Activation')(x)\n",
        "  return x\n",
        "\n",
        "def Inception_ResNetv1(input_shape,classes=100):\n",
        "  \"\"\" function to construct the architecture of Inception_resnetv1 \"\"\"\n",
        "  input_x=stem(input_shape=(32, 32, 3),classes=100)\n",
        "\n",
        "  return model"
      ],
      "execution_count": 2,
      "outputs": [
        {
          "output_type": "stream",
          "text": [
            "Using TensorFlow backend.\n"
          ],
          "name": "stderr"
        }
      ]
    },
    {
      "cell_type": "code",
      "metadata": {
        "id": "m5o2nt29ZVKY",
        "colab_type": "code",
        "outputId": "b62009ea-b6a8-4997-a94a-d93b4d118b55",
        "colab": {
          "base_uri": "https://localhost:8080/",
          "height": 68
        }
      },
      "source": [
        "# Load the CIFAR100 data.\n",
        "(trainX, trainY), (testX, testY) = cifar100.load_data()\n",
        "\n",
        "# Input image dimensions.\n",
        "input_shape = trainX.shape[1:]\n",
        "print(input_shape)\n",
        "# Normalize data.\n",
        "trainX = trainX.astype('float32') / 255\n",
        "testX = testX.astype('float32') / 255\n",
        "\n",
        "# # subtract pixel mean\n",
        "# trainX_mean = np.mean(trainX, axis=0)\n",
        "# trainX -= trainX_mean\n",
        "# testX -= trainX_mean\n",
        "\n",
        "# Convert class vectors to binary class matrices.\n",
        "trainY = keras.utils.to_categorical(trainY, 100)\n",
        "testY = keras.utils.to_categorical(testY, 100)"
      ],
      "execution_count": 3,
      "outputs": [
        {
          "output_type": "stream",
          "text": [
            "Downloading data from https://www.cs.toronto.edu/~kriz/cifar-100-python.tar.gz\n",
            "169009152/169001437 [==============================] - 13s 0us/step\n",
            "(32, 32, 3)\n"
          ],
          "name": "stdout"
        }
      ]
    },
    {
      "cell_type": "code",
      "metadata": {
        "id": "f0F1p2YuY_2x",
        "colab_type": "code",
        "colab": {}
      },
      "source": [
        "model = Inception_ResNetv1(input_shape=input_shape,classes=100)\n",
        "model.compile(loss='categorical_crossentropy',\n",
        "              optimizer=Adam(lr=lr_schedule(0)),\n",
        "              metrics=['accuracy'])\n",
        "model.summary()"
      ],
      "execution_count": 0,
      "outputs": []
    }
  ]
}